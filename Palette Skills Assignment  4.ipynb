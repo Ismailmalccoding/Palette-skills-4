{
 "cells": [
  {
   "cell_type": "code",
   "execution_count": 34,
   "id": "ed396937",
   "metadata": {},
   "outputs": [],
   "source": [
    "# Create a dictionary named dict1 then add key and values.\n",
    "# When you print output of dict1 will be shown as {'Peas': 55, 'Canola': 66, 'Oat': 65}.\n",
    "dict1 = {}"
   ]
  },
  {
   "cell_type": "code",
   "execution_count": 35,
   "id": "bb258fec",
   "metadata": {},
   "outputs": [],
   "source": [
    "dict1['Peas'] = 55\n",
    "dict1['Canola'] = 66\n",
    "dict1['Oat'] = 65"
   ]
  },
  {
   "cell_type": "code",
   "execution_count": 36,
   "id": "6c81d15f",
   "metadata": {},
   "outputs": [
    {
     "data": {
      "text/plain": [
       "{'Peas': 55, 'Canola': 66, 'Oat': 65}"
      ]
     },
     "execution_count": 36,
     "metadata": {},
     "output_type": "execute_result"
    }
   ],
   "source": [
    "dict1"
   ]
  },
  {
   "cell_type": "code",
   "execution_count": 37,
   "id": "ca316365",
   "metadata": {},
   "outputs": [],
   "source": [
    "# In this cell you need to change the assigned value of Peas to 66 and print dict1 again.\n",
    "dict1['Peas'] = 66"
   ]
  },
  {
   "cell_type": "code",
   "execution_count": 38,
   "id": "7e7a0e06",
   "metadata": {},
   "outputs": [
    {
     "data": {
      "text/plain": [
       "{'Peas': 66, 'Canola': 66, 'Oat': 65}"
      ]
     },
     "execution_count": 38,
     "metadata": {},
     "output_type": "execute_result"
    }
   ],
   "source": [
    "dict1"
   ]
  },
  {
   "cell_type": "code",
   "execution_count": 40,
   "id": "59be7386",
   "metadata": {},
   "outputs": [
    {
     "name": "stdout",
     "output_type": "stream",
     "text": [
      "Peas\n",
      "66\n",
      "Canola\n",
      "66\n",
      "Oat\n",
      "65\n"
     ]
    }
   ],
   "source": [
    "#Now use For Loop and print values and key inside dict1. Your output will look like:\n",
    "# Peas\n",
    "# 66\n",
    "# and so on.\n",
    "\n",
    "for key, value in dict1.items():\n",
    "    print(key)\n",
    "    print(value)"
   ]
  },
  {
   "cell_type": "code",
   "execution_count": 46,
   "id": "0f615193",
   "metadata": {},
   "outputs": [
    {
     "name": "stdout",
     "output_type": "stream",
     "text": [
      "[4, 49, 81, 16]\n"
     ]
    }
   ],
   "source": [
    "# Method 1\n",
    "# Ceate a list that consist of square of ls values.\n",
    "ls = [2, 7, 9, 4]\n",
    "squared_ls = [x**2 for x in ls]\n",
    "print(squared_ls)"
   ]
  },
  {
   "cell_type": "code",
   "execution_count": 49,
   "id": "5664b963",
   "metadata": {},
   "outputs": [],
   "source": [
    "# Method 2\n",
    "ls = [2, 7, 9, 4]"
   ]
  },
  {
   "cell_type": "code",
   "execution_count": 50,
   "id": "6f6e4a66",
   "metadata": {},
   "outputs": [
    {
     "data": {
      "text/plain": [
       "[4, 49, 81, 16]"
      ]
     },
     "execution_count": 50,
     "metadata": {},
     "output_type": "execute_result"
    }
   ],
   "source": [
    "[x**2 for x in ls]"
   ]
  },
  {
   "cell_type": "code",
   "execution_count": 57,
   "id": "226da17b",
   "metadata": {},
   "outputs": [],
   "source": [
    "# What is shape of the array?\n",
    "import numpy as np\n",
    "\n",
    "\n",
    "\n"
   ]
  },
  {
   "cell_type": "code",
   "execution_count": 58,
   "id": "5e1c759c",
   "metadata": {},
   "outputs": [],
   "source": [
    "ar_1 = np.array([[3, 4, 5],\n",
    "                 [3, 4, 5]])"
   ]
  },
  {
   "cell_type": "code",
   "execution_count": 59,
   "id": "33c3cab5",
   "metadata": {},
   "outputs": [
    {
     "data": {
      "text/plain": [
       "(2, 3)"
      ]
     },
     "execution_count": 59,
     "metadata": {},
     "output_type": "execute_result"
    }
   ],
   "source": [
    "ar_1.shape"
   ]
  },
  {
   "cell_type": "code",
   "execution_count": 96,
   "id": "4ab35f3f",
   "metadata": {},
   "outputs": [],
   "source": [
    "# Print first row of ar_2\n",
    "ar_2 = ([[3, 4, 5],\n",
    "         [8, 4, 1]])\n",
    "\n"
   ]
  },
  {
   "cell_type": "code",
   "execution_count": 69,
   "id": "9201ba1f",
   "metadata": {},
   "outputs": [
    {
     "data": {
      "text/plain": [
       "[3, 4, 5]"
      ]
     },
     "execution_count": 69,
     "metadata": {},
     "output_type": "execute_result"
    }
   ],
   "source": [
    "ar_2[0]"
   ]
  },
  {
   "cell_type": "code",
   "execution_count": 105,
   "id": "b52cbbe0",
   "metadata": {},
   "outputs": [
    {
     "name": "stdout",
     "output_type": "stream",
     "text": [
      "1\n"
     ]
    }
   ],
   "source": [
    "# Write a code that will print 1 in ar_2.\n",
    "print(ar_2[1][2])\n"
   ]
  },
  {
   "cell_type": "code",
   "execution_count": 87,
   "id": "984124c6",
   "metadata": {},
   "outputs": [
    {
     "data": {
      "text/plain": [
       "4.166666666666667"
      ]
     },
     "execution_count": 87,
     "metadata": {},
     "output_type": "execute_result"
    }
   ],
   "source": [
    "# Print entire mean of ar_2\n",
    "np.mean(ar_2)"
   ]
  },
  {
   "cell_type": "code",
   "execution_count": 99,
   "id": "8d54c6cc",
   "metadata": {},
   "outputs": [
    {
     "data": {
      "text/plain": [
       "array([5.5, 4. , 3. ])"
      ]
     },
     "execution_count": 99,
     "metadata": {},
     "output_type": "execute_result"
    }
   ],
   "source": [
    "\n",
    "# Print each columns' mean\n",
    "np.mean(ar_2, axis=0)"
   ]
  },
  {
   "cell_type": "code",
   "execution_count": 93,
   "id": "df14465a",
   "metadata": {},
   "outputs": [
    {
     "data": {
      "text/plain": [
       "2.1147629234082532"
      ]
     },
     "execution_count": 93,
     "metadata": {},
     "output_type": "execute_result"
    }
   ],
   "source": [
    "# Print entire standard deviation  of ar_2\n",
    "np.std(ar_2)"
   ]
  },
  {
   "cell_type": "code",
   "execution_count": 100,
   "id": "97914b01",
   "metadata": {},
   "outputs": [
    {
     "data": {
      "text/plain": [
       "array([2.5, 0. , 2. ])"
      ]
     },
     "execution_count": 100,
     "metadata": {},
     "output_type": "execute_result"
    }
   ],
   "source": [
    "# Print each rows' standard deviation.\n",
    "np.std(ar_2, axis=0)"
   ]
  },
  {
   "cell_type": "code",
   "execution_count": 102,
   "id": "5d12088d",
   "metadata": {},
   "outputs": [
    {
     "data": {
      "text/plain": [
       "0.16666666666666696"
      ]
     },
     "execution_count": 102,
     "metadata": {},
     "output_type": "execute_result"
    }
   ],
   "source": [
    "# Find the difference between mean and median of entire ar_2.\n",
    "# find median of entire ar_2\n",
    "np.mean(ar_2) - np.median(ar_2)"
   ]
  }
 ],
 "metadata": {
  "kernelspec": {
   "display_name": "Python 3 (ipykernel)",
   "language": "python",
   "name": "python3"
  },
  "language_info": {
   "codemirror_mode": {
    "name": "ipython",
    "version": 3
   },
   "file_extension": ".py",
   "mimetype": "text/x-python",
   "name": "python",
   "nbconvert_exporter": "python",
   "pygments_lexer": "ipython3",
   "version": "3.9.13"
  }
 },
 "nbformat": 4,
 "nbformat_minor": 5
}
